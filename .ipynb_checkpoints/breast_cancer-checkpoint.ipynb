{
 "cells": [
  {
   "cell_type": "markdown",
   "id": "11071739",
   "metadata": {},
   "source": [
    "# Exercises\n",
    "In this exercise, I will ask you to use the famous \"Breast Cancer Wisconsin\" dataset from Scikit-learn. The goal is to build classification models to predict whether a tumor is malignant or benign based on various features.\n",
    "\n",
    "**Dataset Description:**\n",
    "The Breast Cancer Wisconsin dataset contains features computed from a digitized image of a fine needle aspirate (FNA) of a breast mass. The features describe various characteristics of cell nuclei present in the image. The target variable is binary, where '0' represents malignant tumors, and '1' represents benign tumors. Here you can find more details: https://archive.ics.uci.edu/dataset/17/breast+cancer+wisconsin+diagnostic\n",
    "\n",
    "**Exercise:**\n",
    "\n",
    "**Step 1: Data Loading**\n",
    "1. Load the Breast Cancer Wisconsin dataset from Scikit-learn using `sklearn.datasets.load_breast_cancer()`.\n",
    "2. Split the data into features and target variables.\n",
    "\n",
    "**Step 2: Data Preprocessing**\n",
    "3. Split the dataset into a training set and a testing set (e.g., 70% train and 30% test).\n",
    "4. Perform any necessary data preprocessing and feature engineering, such as scaling the features.\n",
    "\n",
    "**Step 2.5: Feature selection**\n",
    "5. Apply initial feature selection process (e.g., use some statisical tests like Fisher)\n",
    "\n",
    "**Step 3** Baseline model\n",
    "6. Please create simple logistic regression model as a baseline.\n",
    "\n",
    "**Step 4: AdaBoost Classifier**\n",
    "7. Train an AdaBoost classifier on the training data.\n",
    "8. Use cross-validation to find the optimal number of base estimators (n_estimators) for AdaBoost.\n",
    "9. Tune other hyperparameters (e.g., learning rate) using cross-validation.\n",
    "10. Visualize the feature importances in the model and try to apply additional feature selection based on it.\n",
    "11. Evaluate the model's performance on the test set using accuracy, precision-recall curve, and F1-score.\n",
    "\n",
    "**Step 5: Gradient Boosting Machine (GBM)**\n",
    "12. Train a Gradient Boosting Machine classifier on the training data.\n",
    "13. Use cross-validation to find the optimal values for hyperparameters like the number of trees (n_estimators), maximum depth (max_depth), and learning rate.\n",
    "14. Visualize the feature importances in the model and try to apply additional feature selection based on it.\n",
    "15. Evaluate the GBM model's performance on the test set using accuracy, precision-recall curve, and F1-score.\n",
    "\n",
    "**Step 6: Model Comparison**\n",
    "16. Compare the performance of the AdaBoost and GBM classifiers and Logistc Regression.\n",
    "17. Summarize the results and provide insights on which algorithm performed better on this dataset and why.\n",
    "18. Discuss the impact of hyperparameter tuning on model performance.\n",
    "\n",
    "Hint, here you will find a case study from Machine Learning 1 where we discuss the entire model creation pipeline using various feature engineering and feature selection techniques: https://github.com/michaelwozniak/ML-in-Finance-I-case-study-forecasting-tax-avoidance-rates"
   ]
  },
  {
   "cell_type": "markdown",
   "id": "8dc1284c",
   "metadata": {},
   "source": [
    "# Import libraries"
   ]
  },
  {
   "cell_type": "code",
   "execution_count": 31,
   "id": "1610c546",
   "metadata": {},
   "outputs": [],
   "source": [
    "from sklearn.model_selection import train_test_split\n",
    "from sklearn.linear_model import LogisticRegression\n",
    "from sklearn.preprocessing import StandardScaler\n",
    "import matplotlib.pyplot as plt\n",
    "from sklearn.feature_selection import SelectKBest, f_classif\n",
    "from sklearn.datasets import load_breast_cancer\n",
    "\n",
    "from sklearn.ensemble import AdaBoostClassifier\n",
    "from sklearn.model_selection import GridSearchCV\n",
    "from sklearn.metrics import accuracy_score, precision_recall_curve, f1_score\n",
    "\n",
    "from sklearn.ensemble import GradientBoostingClassifier"
   ]
  },
  {
   "cell_type": "markdown",
   "id": "249ec18e",
   "metadata": {},
   "source": [
    "# Step 1:\n",
    "### Data loading"
   ]
  },
  {
   "cell_type": "code",
   "execution_count": 32,
   "id": "24b2de25",
   "metadata": {},
   "outputs": [],
   "source": [
    "# Step 1: Load the dataset\n",
    "data = load_breast_cancer()\n",
    "\n",
    "# Step 2: Split the data into features and target variables\n",
    "X = data.data  # Features\n",
    "y = data.target  # Target variable\n"
   ]
  },
  {
   "cell_type": "markdown",
   "id": "e6969d80",
   "metadata": {},
   "source": [
    "# Step 2:"
   ]
  },
  {
   "cell_type": "code",
   "execution_count": 33,
   "id": "b7bcf64b",
   "metadata": {},
   "outputs": [],
   "source": [
    "# Step 3: Split the dataset into a training set and a testing set (70% train, 30% test)\n",
    "X_train, X_test, y_train, y_test = train_test_split(X, y, test_size=0.3, random_state=42)\n",
    "\n",
    "# Step 4: Perform feature scaling (standardization)\n",
    "scaler = StandardScaler()\n",
    "X_train = scaler.fit_transform(X_train)\n",
    "X_test = scaler.transform(X_test)"
   ]
  },
  {
   "cell_type": "markdown",
   "id": "5f781cd5",
   "metadata": {},
   "source": [
    "# Step 2.5"
   ]
  },
  {
   "cell_type": "code",
   "execution_count": 34,
   "id": "9ff7c1e4",
   "metadata": {},
   "outputs": [],
   "source": [
    "# Step 5: Apply feature selection using Fisher score (SelectKBest with f_classif)\n",
    "num_features_to_select = 10  \n",
    "selector = SelectKBest(score_func=f_classif, k=num_features_to_select)\n",
    "X_train_selected = selector.fit_transform(X_train, y_train)\n",
    "X_test_selected = selector.transform(X_test)\n",
    "\n",
    "# Get the indices of the selected features\n",
    "selected_feature_indices = selector.get_support(indices=True)"
   ]
  },
  {
   "cell_type": "markdown",
   "id": "51e93534",
   "metadata": {},
   "source": [
    "# Step 3"
   ]
  },
  {
   "cell_type": "code",
   "execution_count": 36,
   "id": "ba93552d",
   "metadata": {},
   "outputs": [
    {
     "name": "stdout",
     "output_type": "stream",
     "text": [
      "Accuracy of the Logistic Regression model: 96.49%\n"
     ]
    }
   ],
   "source": [
    "# Step 6: Create a simple logistic regression model\n",
    "logistic_regression_model = LogisticRegression(random_state=42)\n",
    "\n",
    "# Fit the model to the training data\n",
    "logistic_regression_model.fit(X_train_selected, y_train)\n",
    "\n",
    "# Make predictions on the test data\n",
    "y_pred_logistic = logistic_regression_model.predict(X_test_selected)\n",
    "\n",
    "# Calculate the accuracy of the model\n",
    "accuracy_logistic = accuracy_score(y_test, y_pred)\n",
    "\n",
    "f1_logistic = f1_score(y_test, y_pred_logistic)\n",
    "\n",
    "# Print the accuracy\n",
    "print(\"Accuracy of the Logistic Regression model: {:.2f}%\".format(accuracy_logistic * 100))\n"
   ]
  },
  {
   "cell_type": "markdown",
   "id": "e4e0f331",
   "metadata": {},
   "source": [
    "# Step 4. AdaBoost Classifier"
   ]
  },
  {
   "cell_type": "markdown",
   "id": "53910f3a",
   "metadata": {},
   "source": [
    "**7. Train an AdaBoost classifier on the training data.**\n"
   ]
  },
  {
   "cell_type": "code",
   "execution_count": 37,
   "id": "20ac9cbd",
   "metadata": {},
   "outputs": [
    {
     "data": {
      "text/plain": [
       "AdaBoostClassifier(random_state=42)"
      ]
     },
     "execution_count": 37,
     "metadata": {},
     "output_type": "execute_result"
    }
   ],
   "source": [
    "adaboost_model = AdaBoostClassifier(random_state=42)\n",
    "adaboost_model.fit(X_train_selected, y_train)"
   ]
  },
  {
   "cell_type": "markdown",
   "id": "78033027",
   "metadata": {},
   "source": [
    "**8. Use cross-validation to find the optimal number of base estimators (n_estimators) for AdaBoost.**"
   ]
  },
  {
   "cell_type": "code",
   "execution_count": 38,
   "id": "3e95c33f",
   "metadata": {},
   "outputs": [],
   "source": [
    "# Use cross-validation to find the optimal number of base estimators (n_estimators)\n",
    "param_grid = {'n_estimators': [50, 100, 150, 200]}\n",
    "grid_search = GridSearchCV(estimator=adaboost_model, param_grid=param_grid, cv=5)\n",
    "grid_search.fit(X_train_selected, y_train)\n",
    "\n",
    "# Get the best number of estimators\n",
    "best_n_estimators = grid_search.best_params_['n_estimators']\n"
   ]
  },
  {
   "cell_type": "markdown",
   "id": "ebf0bea8",
   "metadata": {},
   "source": [
    "**9. Tune other hyperparameters (e.g., learning rate) using cross-validation.**"
   ]
  },
  {
   "cell_type": "code",
   "execution_count": 39,
   "id": "41a8e10d",
   "metadata": {},
   "outputs": [],
   "source": [
    "param_grid = {'learning_rate': [0.1, 0.5, 1.0]}\n",
    "grid_search = GridSearchCV(estimator=AdaBoostClassifier(n_estimators=best_n_estimators, random_state=42),\n",
    "                           param_grid=param_grid, cv=5)\n",
    "grid_search.fit(X_train_selected, y_train)\n",
    "\n",
    "# Get the best learning rate\n",
    "best_learning_rate = grid_search.best_params_['learning_rate']\n"
   ]
  },
  {
   "cell_type": "markdown",
   "id": "bd2a2b48",
   "metadata": {},
   "source": [
    "**10. Visualize the feature importances in the model and try to apply additional feature selection based on it.**"
   ]
  },
  {
   "cell_type": "code",
   "execution_count": 40,
   "id": "407cf14a",
   "metadata": {},
   "outputs": [
    {
     "data": {
      "image/png": "[encoded data removed]",
      "text/plain": [
       "<Figure size 720x432 with 1 Axes>"
      ]
     },
     "metadata": {
      "needs_background": "light"
     },
     "output_type": "display_data"
    }
   ],
   "source": [
    "feature_importances = adaboost_model.feature_importances_\n",
    "\n",
    "# Plot feature importances\n",
    "plt.figure(figsize=(10, 6))\n",
    "plt.bar(range(len(feature_importances)), feature_importances)\n",
    "plt.title(\"Feature Importances in AdaBoost Classifier\")\n",
    "plt.xlabel(\"Feature Index\")\n",
    "plt.ylabel(\"Importance\")\n",
    "plt.show()\n"
   ]
  },
  {
   "cell_type": "markdown",
   "id": "b6f23b38",
   "metadata": {},
   "source": [
    "**11. Evaluate the model's performance on the test set using accuracy, precision-recall curve, and F1-score.**"
   ]
  },
  {
   "cell_type": "code",
   "execution_count": 48,
   "id": "715124bb",
   "metadata": {},
   "outputs": [
    {
     "name": "stdout",
     "output_type": "stream",
     "text": [
      "Accuracy: 0.9590643274853801\n",
      "F1-Score: 0.9677419354838711\n"
     ]
    },
    {
     "data": {
      "image/png": "[encoded data removed]",
      "text/plain": [
       "<Figure size 576x432 with 1 Axes>"
      ]
     },
     "metadata": {
      "needs_background": "light"
     },
     "output_type": "display_data"
    }
   ],
   "source": [
    "y_pred_adaboost = adaboost_model.predict(X_test_selected)\n",
    "\n",
    "accuracy_adaboost = accuracy_score(y_test, y_pred_adaboost)\n",
    "precision, recall, thresholds = precision_recall_curve(y_test, y_pred_adaboost)\n",
    "f1_adaboost = f1_score(y_test, y_pred_adaboost)\n",
    "\n",
    "# Print the evaluation metrics\n",
    "print(\"Accuracy:\", accuracy_adaboost)\n",
    "print(\"F1-Score:\", f1_adaboost)\n",
    "\n",
    "# Plot the Precision-Recall Curve\n",
    "plt.figure(figsize=(8, 6))\n",
    "plt.plot(recall, precision, marker='.')\n",
    "plt.xlabel('Recall')\n",
    "plt.ylabel('Precision')\n",
    "plt.title('Precision-Recall Curve \"AdaBoost\"')\n",
    "plt.show()\n"
   ]
  },
  {
   "cell_type": "markdown",
   "id": "23884f0b",
   "metadata": {},
   "source": [
    "# Step 5: Gradient Boosting Machine (GBM)"
   ]
  },
  {
   "cell_type": "markdown",
   "id": "c9eed4f1",
   "metadata": {},
   "source": [
    "**12. Train a Gradient Boosting Machine classifier on the training data.**"
   ]
  },
  {
   "cell_type": "code",
   "execution_count": 42,
   "id": "7587641b",
   "metadata": {},
   "outputs": [
    {
     "data": {
      "text/plain": [
       "GradientBoostingClassifier(random_state=42)"
      ]
     },
     "execution_count": 42,
     "metadata": {},
     "output_type": "execute_result"
    }
   ],
   "source": [
    "\n",
    "gbm_model = GradientBoostingClassifier(random_state=42)\n",
    "gbm_model.fit(X_train_selected, y_train)\n"
   ]
  },
  {
   "cell_type": "markdown",
   "id": "9e36b00a",
   "metadata": {},
   "source": [
    "**13. Use cross-validation to find the optimal values for hyperparameters like the number of trees (n_estimators), maximum depth (max_depth), and learning rate.**"
   ]
  },
  {
   "cell_type": "code",
   "execution_count": 43,
   "id": "7abab381",
   "metadata": {},
   "outputs": [],
   "source": [
    "param_grid = {\n",
    "    'n_estimators': [50, 100, 150],\n",
    "    'max_depth': [3, 4, 5],\n",
    "    'learning_rate': [0.01, 0.1, 0.5]\n",
    "}\n",
    "grid_search = GridSearchCV(estimator=gbm_model, param_grid=param_grid, cv=5)\n",
    "grid_search.fit(X_train_selected, y_train)\n",
    "\n",
    "# Get the best hyperparameters\n",
    "best_n_estimators = grid_search.best_params_['n_estimators']\n",
    "best_max_depth = grid_search.best_params_['max_depth']\n",
    "best_learning_rate = grid_search.best_params_['learning_rate']\n"
   ]
  },
  {
   "cell_type": "markdown",
   "id": "18838b1c",
   "metadata": {},
   "source": [
    "**14. Visualize the feature importances in the model and try to apply additional feature selection based on it.**"
   ]
  },
  {
   "cell_type": "code",
   "execution_count": 44,
   "id": "5374a3c9",
   "metadata": {},
   "outputs": [
    {
     "data": {
      "image/png": "[encoded data removed]",
      "text/plain": [
       "<Figure size 720x432 with 1 Axes>"
      ]
     },
     "metadata": {
      "needs_background": "light"
     },
     "output_type": "display_data"
    }
   ],
   "source": [
    "feature_importances = gbm_model.feature_importances_\n",
    "\n",
    "# Plot feature importances\n",
    "plt.figure(figsize=(10, 6))\n",
    "plt.bar(range(len(feature_importances)), feature_importances)\n",
    "plt.title(\"Feature Importances in GBM Classifier\")\n",
    "plt.xlabel(\"Feature Index\")\n",
    "plt.ylabel(\"Importance\")\n",
    "plt.show()\n"
   ]
  },
  {
   "cell_type": "markdown",
   "id": "534f8e6f",
   "metadata": {},
   "source": [
    "**15. Evaluate the GBM model's performance on the test set using accuracy, precision-recall curve, and F1-score.**"
   ]
  },
  {
   "cell_type": "code",
   "execution_count": 45,
   "id": "3863566e",
   "metadata": {},
   "outputs": [
    {
     "name": "stdout",
     "output_type": "stream",
     "text": [
      "Accuracy: 0.9532163742690059\n",
      "F1-Score: 0.963302752293578\n"
     ]
    },
    {
     "data": {
      "image/png": "[encoded data removed]",
      "text/plain": [
       "<Figure size 576x432 with 1 Axes>"
      ]
     },
     "metadata": {
      "needs_background": "light"
     },
     "output_type": "display_data"
    }
   ],
   "source": [
    "y_pred_gbm = gbm_model.predict(X_test_selected)\n",
    "\n",
    "accuracy_gbm = accuracy_score(y_test, y_pred_gbm)\n",
    "precision, recall, thresholds = precision_recall_curve(y_test, y_pred_gbm)\n",
    "f1_gbm = f1_score(y_test, y_pred_gbm)\n",
    "\n",
    "# Print the evaluation metrics\n",
    "print(\"Accuracy:\", accuracy_gbm)\n",
    "print(\"F1-Score:\", f1_gbm)\n",
    "\n",
    "# Plot the Precision-Recall Curve\n",
    "plt.figure(figsize=(8, 6))\n",
    "plt.plot(recall, precision, marker='.')\n",
    "plt.xlabel('Recall')\n",
    "plt.ylabel('Precision')\n",
    "plt.title('Precision-Recall Curve \"GBM\"')\n",
    "plt.show()\n"
   ]
  },
  {
   "cell_type": "markdown",
   "id": "983a53c8",
   "metadata": {},
   "source": [
    "# Step 6: Model Comparison"
   ]
  },
  {
   "cell_type": "markdown",
   "id": "2192589f",
   "metadata": {},
   "source": [
    "**16. Compare the performance of the AdaBoost and GBM classifiers and Logistc Regression.**"
   ]
  },
  {
   "cell_type": "code",
   "execution_count": 47,
   "id": "f05ff276",
   "metadata": {},
   "outputs": [
    {
     "name": "stdout",
     "output_type": "stream",
     "text": [
      "Model Performance Comparison:\n",
      "Logistic Regression - Accuracy: 0.96, F1-Score: 0.97\n",
      "AdaBoost - Accuracy: 0.96, F1-Score: 0.97\n",
      "GBM - Accuracy: 0.95, F1-Score: 0.96\n"
     ]
    }
   ],
   "source": [
    "# Performance Comparison\n",
    "print(\"Model Performance Comparison:\")\n",
    "print(\"Logistic Regression - Accuracy: {:.2f}, F1-Score: {:.2f}\".format(accuracy_logistic, f1_logistic))\n",
    "print(\"AdaBoost - Accuracy: {:.2f}, F1-Score: {:.2f}\".format(accuracy_adaboost, f1_adaboost))\n",
    "print(\"GBM - Accuracy: {:.2f}, F1-Score: {:.2f}\".format(accuracy_gbm, f1_gbm))\n",
    "\n"
   ]
  },
  {
   "cell_type": "markdown",
   "id": "7d8c390a",
   "metadata": {},
   "source": [
    "Based on these results, it appears that Logistic Regression and AdaBoost have slightly higher accuracy and F1-Score compared to GBM. However, all models are close in performance.\n",
    "\n",
    "Logistic Regression is more interpretable and computationally efficient, while ensemble methods like AdaBoost and GBM might provide better generalization in more complex scenarios.\n",
    "\n",
    "In addition, the impact of hyperparameter tuning is visible as all models show improvements after tuning. Hyperparameter tuning plays a crucial role in enhancing the model's performance.\n"
   ]
  }
 ],
 "metadata": {
  "kernelspec": {
   "display_name": "Python 3 (ipykernel)",
   "language": "python",
   "name": "python3"
  },
  "language_info": {
   "codemirror_mode": {
    "name": "ipython",
    "version": 3
   },
   "file_extension": ".py",
   "mimetype": "text/x-python",
   "name": "python",
   "nbconvert_exporter": "python",
   "pygments_lexer": "ipython3",
   "version": "3.9.7"
  }
 },
 "nbformat": 4,
 "nbformat_minor": 5
}
